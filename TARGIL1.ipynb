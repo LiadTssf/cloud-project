{
  "nbformat": 4,
  "nbformat_minor": 0,
  "metadata": {
    "colab": {
      "provenance": [],
      "authorship_tag": "ABX9TyNg4xfwV9aOz6/zfkU+83AL",
      "include_colab_link": true
    },
    "kernelspec": {
      "name": "python3",
      "display_name": "Python 3"
    },
    "language_info": {
      "name": "python"
    },
    "widgets": {
      "application/vnd.jupyter.widget-state+json": {
        "9b233d6639684776ba7d2ca584cb8f85": {
          "model_module": "@jupyter-widgets/controls",
          "model_name": "DropdownModel",
          "model_module_version": "1.5.0",
          "state": {
            "_dom_classes": [],
            "_model_module": "@jupyter-widgets/controls",
            "_model_module_version": "1.5.0",
            "_model_name": "DropdownModel",
            "_options_labels": [
              "Alice Johnson",
              "Bob Smith",
              "Charlie Brown"
            ],
            "_view_count": null,
            "_view_module": "@jupyter-widgets/controls",
            "_view_module_version": "1.5.0",
            "_view_name": "DropdownView",
            "description": "Student:",
            "description_tooltip": null,
            "disabled": false,
            "index": 2,
            "layout": "IPY_MODEL_66122bf6652745188abbc5fa43c91952",
            "style": "IPY_MODEL_0e86326a02054ab6a7302e9717a998cd"
          }
        },
        "66122bf6652745188abbc5fa43c91952": {
          "model_module": "@jupyter-widgets/base",
          "model_name": "LayoutModel",
          "model_module_version": "1.2.0",
          "state": {
            "_model_module": "@jupyter-widgets/base",
            "_model_module_version": "1.2.0",
            "_model_name": "LayoutModel",
            "_view_count": null,
            "_view_module": "@jupyter-widgets/base",
            "_view_module_version": "1.2.0",
            "_view_name": "LayoutView",
            "align_content": null,
            "align_items": null,
            "align_self": null,
            "border": null,
            "bottom": null,
            "display": null,
            "flex": null,
            "flex_flow": null,
            "grid_area": null,
            "grid_auto_columns": null,
            "grid_auto_flow": null,
            "grid_auto_rows": null,
            "grid_column": null,
            "grid_gap": null,
            "grid_row": null,
            "grid_template_areas": null,
            "grid_template_columns": null,
            "grid_template_rows": null,
            "height": null,
            "justify_content": null,
            "justify_items": null,
            "left": null,
            "margin": null,
            "max_height": null,
            "max_width": null,
            "min_height": null,
            "min_width": null,
            "object_fit": null,
            "object_position": null,
            "order": null,
            "overflow": null,
            "overflow_x": null,
            "overflow_y": null,
            "padding": null,
            "right": null,
            "top": null,
            "visibility": null,
            "width": null
          }
        },
        "0e86326a02054ab6a7302e9717a998cd": {
          "model_module": "@jupyter-widgets/controls",
          "model_name": "DescriptionStyleModel",
          "model_module_version": "1.5.0",
          "state": {
            "_model_module": "@jupyter-widgets/controls",
            "_model_module_version": "1.5.0",
            "_model_name": "DescriptionStyleModel",
            "_view_count": null,
            "_view_module": "@jupyter-widgets/base",
            "_view_module_version": "1.2.0",
            "_view_name": "StyleView",
            "description_width": ""
          }
        },
        "6cb4deaced8442089d7104d1d47bee61": {
          "model_module": "@jupyter-widgets/controls",
          "model_name": "TextModel",
          "model_module_version": "1.5.0",
          "state": {
            "_dom_classes": [],
            "_model_module": "@jupyter-widgets/controls",
            "_model_module_version": "1.5.0",
            "_model_name": "TextModel",
            "_view_count": null,
            "_view_module": "@jupyter-widgets/controls",
            "_view_module_version": "1.5.0",
            "_view_name": "TextView",
            "continuous_update": true,
            "description": "Email:",
            "description_tooltip": null,
            "disabled": false,
            "layout": "IPY_MODEL_b70ad76f93e84b1daf482d368529af60",
            "placeholder": "​",
            "style": "IPY_MODEL_28da2c056c1f43bea3bcf6e74d838388",
            "value": "charlie.brown@example.com"
          }
        },
        "b70ad76f93e84b1daf482d368529af60": {
          "model_module": "@jupyter-widgets/base",
          "model_name": "LayoutModel",
          "model_module_version": "1.2.0",
          "state": {
            "_model_module": "@jupyter-widgets/base",
            "_model_module_version": "1.2.0",
            "_model_name": "LayoutModel",
            "_view_count": null,
            "_view_module": "@jupyter-widgets/base",
            "_view_module_version": "1.2.0",
            "_view_name": "LayoutView",
            "align_content": null,
            "align_items": null,
            "align_self": null,
            "border": null,
            "bottom": null,
            "display": null,
            "flex": null,
            "flex_flow": null,
            "grid_area": null,
            "grid_auto_columns": null,
            "grid_auto_flow": null,
            "grid_auto_rows": null,
            "grid_column": null,
            "grid_gap": null,
            "grid_row": null,
            "grid_template_areas": null,
            "grid_template_columns": null,
            "grid_template_rows": null,
            "height": null,
            "justify_content": null,
            "justify_items": null,
            "left": null,
            "margin": null,
            "max_height": null,
            "max_width": null,
            "min_height": null,
            "min_width": null,
            "object_fit": null,
            "object_position": null,
            "order": null,
            "overflow": null,
            "overflow_x": null,
            "overflow_y": null,
            "padding": null,
            "right": null,
            "top": null,
            "visibility": null,
            "width": null
          }
        },
        "28da2c056c1f43bea3bcf6e74d838388": {
          "model_module": "@jupyter-widgets/controls",
          "model_name": "DescriptionStyleModel",
          "model_module_version": "1.5.0",
          "state": {
            "_model_module": "@jupyter-widgets/controls",
            "_model_module_version": "1.5.0",
            "_model_name": "DescriptionStyleModel",
            "_view_count": null,
            "_view_module": "@jupyter-widgets/base",
            "_view_module_version": "1.2.0",
            "_view_name": "StyleView",
            "description_width": ""
          }
        },
        "2261ce2f04ab461092daddb4c179d7b0": {
          "model_module": "@jupyter-widgets/controls",
          "model_name": "TextModel",
          "model_module_version": "1.5.0",
          "state": {
            "_dom_classes": [],
            "_model_module": "@jupyter-widgets/controls",
            "_model_module_version": "1.5.0",
            "_model_name": "TextModel",
            "_view_count": null,
            "_view_module": "@jupyter-widgets/controls",
            "_view_module_version": "1.5.0",
            "_view_name": "TextView",
            "continuous_update": true,
            "description": "Courses:",
            "description_tooltip": null,
            "disabled": false,
            "layout": "IPY_MODEL_abe6d56f74ef4dbaaae60ac4b788bac5",
            "placeholder": "​",
            "style": "IPY_MODEL_267fbf9d62234879be39bdcb0fdaed97",
            "value": "Computer Science, Math, Art, dark"
          }
        },
        "abe6d56f74ef4dbaaae60ac4b788bac5": {
          "model_module": "@jupyter-widgets/base",
          "model_name": "LayoutModel",
          "model_module_version": "1.2.0",
          "state": {
            "_model_module": "@jupyter-widgets/base",
            "_model_module_version": "1.2.0",
            "_model_name": "LayoutModel",
            "_view_count": null,
            "_view_module": "@jupyter-widgets/base",
            "_view_module_version": "1.2.0",
            "_view_name": "LayoutView",
            "align_content": null,
            "align_items": null,
            "align_self": null,
            "border": null,
            "bottom": null,
            "display": null,
            "flex": null,
            "flex_flow": null,
            "grid_area": null,
            "grid_auto_columns": null,
            "grid_auto_flow": null,
            "grid_auto_rows": null,
            "grid_column": null,
            "grid_gap": null,
            "grid_row": null,
            "grid_template_areas": null,
            "grid_template_columns": null,
            "grid_template_rows": null,
            "height": null,
            "justify_content": null,
            "justify_items": null,
            "left": null,
            "margin": null,
            "max_height": null,
            "max_width": null,
            "min_height": null,
            "min_width": null,
            "object_fit": null,
            "object_position": null,
            "order": null,
            "overflow": null,
            "overflow_x": null,
            "overflow_y": null,
            "padding": null,
            "right": null,
            "top": null,
            "visibility": null,
            "width": null
          }
        },
        "267fbf9d62234879be39bdcb0fdaed97": {
          "model_module": "@jupyter-widgets/controls",
          "model_name": "DescriptionStyleModel",
          "model_module_version": "1.5.0",
          "state": {
            "_model_module": "@jupyter-widgets/controls",
            "_model_module_version": "1.5.0",
            "_model_name": "DescriptionStyleModel",
            "_view_count": null,
            "_view_module": "@jupyter-widgets/base",
            "_view_module_version": "1.2.0",
            "_view_name": "StyleView",
            "description_width": ""
          }
        },
        "89707d240d9a4cf2bba75b1090ad428b": {
          "model_module": "@jupyter-widgets/controls",
          "model_name": "TextModel",
          "model_module_version": "1.5.0",
          "state": {
            "_dom_classes": [],
            "_model_module": "@jupyter-widgets/controls",
            "_model_module_version": "1.5.0",
            "_model_name": "TextModel",
            "_view_count": null,
            "_view_module": "@jupyter-widgets/controls",
            "_view_module_version": "1.5.0",
            "_view_name": "TextView",
            "continuous_update": true,
            "description": "Link:",
            "description_tooltip": null,
            "disabled": false,
            "layout": "IPY_MODEL_8d53f2f8dc354443b7d1b4a68d514cf0",
            "placeholder": "​",
            "style": "IPY_MODEL_cef5cdbad5be4b85af83df608382a886",
            "value": "https://charlie-portfolio.example.com"
          }
        },
        "8d53f2f8dc354443b7d1b4a68d514cf0": {
          "model_module": "@jupyter-widgets/base",
          "model_name": "LayoutModel",
          "model_module_version": "1.2.0",
          "state": {
            "_model_module": "@jupyter-widgets/base",
            "_model_module_version": "1.2.0",
            "_model_name": "LayoutModel",
            "_view_count": null,
            "_view_module": "@jupyter-widgets/base",
            "_view_module_version": "1.2.0",
            "_view_name": "LayoutView",
            "align_content": null,
            "align_items": null,
            "align_self": null,
            "border": null,
            "bottom": null,
            "display": null,
            "flex": null,
            "flex_flow": null,
            "grid_area": null,
            "grid_auto_columns": null,
            "grid_auto_flow": null,
            "grid_auto_rows": null,
            "grid_column": null,
            "grid_gap": null,
            "grid_row": null,
            "grid_template_areas": null,
            "grid_template_columns": null,
            "grid_template_rows": null,
            "height": null,
            "justify_content": null,
            "justify_items": null,
            "left": null,
            "margin": null,
            "max_height": null,
            "max_width": null,
            "min_height": null,
            "min_width": null,
            "object_fit": null,
            "object_position": null,
            "order": null,
            "overflow": null,
            "overflow_x": null,
            "overflow_y": null,
            "padding": null,
            "right": null,
            "top": null,
            "visibility": null,
            "width": null
          }
        },
        "cef5cdbad5be4b85af83df608382a886": {
          "model_module": "@jupyter-widgets/controls",
          "model_name": "DescriptionStyleModel",
          "model_module_version": "1.5.0",
          "state": {
            "_model_module": "@jupyter-widgets/controls",
            "_model_module_version": "1.5.0",
            "_model_name": "DescriptionStyleModel",
            "_view_count": null,
            "_view_module": "@jupyter-widgets/base",
            "_view_module_version": "1.2.0",
            "_view_name": "StyleView",
            "description_width": ""
          }
        },
        "754f7f4bd81b43eea4c208a4fb60986e": {
          "model_module": "@jupyter-widgets/controls",
          "model_name": "TextModel",
          "model_module_version": "1.5.0",
          "state": {
            "_dom_classes": [],
            "_model_module": "@jupyter-widgets/controls",
            "_model_module_version": "1.5.0",
            "_model_name": "TextModel",
            "_view_count": null,
            "_view_module": "@jupyter-widgets/controls",
            "_view_module_version": "1.5.0",
            "_view_name": "TextView",
            "continuous_update": true,
            "description": "Favorite Program:",
            "description_tooltip": null,
            "disabled": false,
            "layout": "IPY_MODEL_d037697c1cf947eb8839a5add104ae37",
            "placeholder": "​",
            "style": "IPY_MODEL_04987b3f2e1c4d099c30577a0eda2453",
            "value": ""
          }
        },
        "d037697c1cf947eb8839a5add104ae37": {
          "model_module": "@jupyter-widgets/base",
          "model_name": "LayoutModel",
          "model_module_version": "1.2.0",
          "state": {
            "_model_module": "@jupyter-widgets/base",
            "_model_module_version": "1.2.0",
            "_model_name": "LayoutModel",
            "_view_count": null,
            "_view_module": "@jupyter-widgets/base",
            "_view_module_version": "1.2.0",
            "_view_name": "LayoutView",
            "align_content": null,
            "align_items": null,
            "align_self": null,
            "border": null,
            "bottom": null,
            "display": null,
            "flex": null,
            "flex_flow": null,
            "grid_area": null,
            "grid_auto_columns": null,
            "grid_auto_flow": null,
            "grid_auto_rows": null,
            "grid_column": null,
            "grid_gap": null,
            "grid_row": null,
            "grid_template_areas": null,
            "grid_template_columns": null,
            "grid_template_rows": null,
            "height": null,
            "justify_content": null,
            "justify_items": null,
            "left": null,
            "margin": null,
            "max_height": null,
            "max_width": null,
            "min_height": null,
            "min_width": null,
            "object_fit": null,
            "object_position": null,
            "order": null,
            "overflow": null,
            "overflow_x": null,
            "overflow_y": null,
            "padding": null,
            "right": null,
            "top": null,
            "visibility": null,
            "width": null
          }
        },
        "04987b3f2e1c4d099c30577a0eda2453": {
          "model_module": "@jupyter-widgets/controls",
          "model_name": "DescriptionStyleModel",
          "model_module_version": "1.5.0",
          "state": {
            "_model_module": "@jupyter-widgets/controls",
            "_model_module_version": "1.5.0",
            "_model_name": "DescriptionStyleModel",
            "_view_count": null,
            "_view_module": "@jupyter-widgets/base",
            "_view_module_version": "1.2.0",
            "_view_name": "StyleView",
            "description_width": ""
          }
        },
        "1b515e55c4544585a8653a577fcc1305": {
          "model_module": "@jupyter-widgets/controls",
          "model_name": "ButtonModel",
          "model_module_version": "1.5.0",
          "state": {
            "_dom_classes": [],
            "_model_module": "@jupyter-widgets/controls",
            "_model_module_version": "1.5.0",
            "_model_name": "ButtonModel",
            "_view_count": null,
            "_view_module": "@jupyter-widgets/controls",
            "_view_module_version": "1.5.0",
            "_view_name": "ButtonView",
            "button_style": "",
            "description": "Update",
            "disabled": false,
            "icon": "",
            "layout": "IPY_MODEL_fe0338c49cf5459a991656198d901ac8",
            "style": "IPY_MODEL_83a8d6ef2a4842c89aa2546e2766799b",
            "tooltip": ""
          }
        },
        "fe0338c49cf5459a991656198d901ac8": {
          "model_module": "@jupyter-widgets/base",
          "model_name": "LayoutModel",
          "model_module_version": "1.2.0",
          "state": {
            "_model_module": "@jupyter-widgets/base",
            "_model_module_version": "1.2.0",
            "_model_name": "LayoutModel",
            "_view_count": null,
            "_view_module": "@jupyter-widgets/base",
            "_view_module_version": "1.2.0",
            "_view_name": "LayoutView",
            "align_content": null,
            "align_items": null,
            "align_self": null,
            "border": null,
            "bottom": null,
            "display": null,
            "flex": null,
            "flex_flow": null,
            "grid_area": null,
            "grid_auto_columns": null,
            "grid_auto_flow": null,
            "grid_auto_rows": null,
            "grid_column": null,
            "grid_gap": null,
            "grid_row": null,
            "grid_template_areas": null,
            "grid_template_columns": null,
            "grid_template_rows": null,
            "height": null,
            "justify_content": null,
            "justify_items": null,
            "left": null,
            "margin": null,
            "max_height": null,
            "max_width": null,
            "min_height": null,
            "min_width": null,
            "object_fit": null,
            "object_position": null,
            "order": null,
            "overflow": null,
            "overflow_x": null,
            "overflow_y": null,
            "padding": null,
            "right": null,
            "top": null,
            "visibility": null,
            "width": null
          }
        },
        "83a8d6ef2a4842c89aa2546e2766799b": {
          "model_module": "@jupyter-widgets/controls",
          "model_name": "ButtonStyleModel",
          "model_module_version": "1.5.0",
          "state": {
            "_model_module": "@jupyter-widgets/controls",
            "_model_module_version": "1.5.0",
            "_model_name": "ButtonStyleModel",
            "_view_count": null,
            "_view_module": "@jupyter-widgets/base",
            "_view_module_version": "1.2.0",
            "_view_name": "StyleView",
            "button_color": null,
            "font_weight": ""
          }
        }
      }
    }
  },
  "cells": [
    {
      "cell_type": "markdown",
      "metadata": {
        "id": "view-in-github",
        "colab_type": "text"
      },
      "source": [
        "<a href=\"https://colab.research.google.com/github/LiadTssf/cloud-project/blob/main/TARGIL1.ipynb\" target=\"_parent\"><img src=\"https://colab.research.google.com/assets/colab-badge.svg\" alt=\"Open In Colab\"/></a>"
      ]
    },
    {
      "cell_type": "code",
      "source": [
        "# Write sample student data to students.txt\n",
        "student_data = \"\"\"Alice, Johnson, alice.johnson@example.com, [\"Math\", \"Physics\", \"Chemistry\"], https://alice-portfolio.example.com\n",
        "Bob, Smith, bob.smith@example.com, [\"Biology\", \"History\", \"Geography\"], https://bob-portfolio.example.com\n",
        "Charlie, Brown, charlie.brown@example.com, [\"Computer Science\", \"Math\", \"Art\"], https://charlie-portfolio.example.com\n",
        "\"\"\"\n",
        "\n",
        "with open('/content/students.txt', 'w') as f:\n",
        "    f.write(student_data)"
      ],
      "metadata": {
        "id": "Cg4Yh0A9hX_b"
      },
      "execution_count": null,
      "outputs": []
    },
    {
      "cell_type": "code",
      "execution_count": null,
      "metadata": {
        "colab": {
          "base_uri": "https://localhost:8080/"
        },
        "id": "BW6nerBTgTZA",
        "outputId": "857d7133-332b-49a0-9c67-13c0bbb9bfc2"
      },
      "outputs": [
        {
          "output_type": "stream",
          "name": "stdout",
          "text": [
            "[{'first_name': 'Alice', 'last_name': 'Johnson', 'email': 'alice.johnson@example.com', 'courses': ['Math', 'Physics', 'Chemistry'], 'link': 'https://alice-portfolio.example.com'}, {'first_name': 'Bob', 'last_name': 'Smith', 'email': 'bob.smith@example.com', 'courses': ['Biology', 'History', 'Geography'], 'link': 'https://bob-portfolio.example.com'}, {'first_name': 'Charlie', 'last_name': 'Brown', 'email': 'charlie.brown@example.com', 'courses': ['Computer Science', 'Math', 'Art'], 'link': 'https://charlie-portfolio.example.com'}]\n"
          ]
        }
      ],
      "source": [
        "import json\n",
        "import ast\n",
        "import ipywidgets as widgets\n",
        "from IPython.display import display\n",
        "\n",
        "def read_students(file_path):\n",
        "    students = []\n",
        "    with open(file_path, 'r') as f:\n",
        "        for line in f:\n",
        "            # Split the line into components using a comma as the delimiter\n",
        "            parts = line.strip().split(\", \")\n",
        "            # Extract individual components\n",
        "            first_name = parts[0]\n",
        "            last_name = parts[1]\n",
        "            email = parts[2]\n",
        "            # Find the start and end indices of the courses list\n",
        "            courses_start = line.find(\"[\")\n",
        "            courses_end = line.find(\"]\")\n",
        "            courses_str = line[courses_start:courses_end+1]\n",
        "            # Convert the courses string to a list\n",
        "            courses = ast.literal_eval(courses_str)\n",
        "            # Extract the link\n",
        "            link = parts[-1]\n",
        "\n",
        "            # Store the student details in the dictionary\n",
        "            student = {\n",
        "                \"first_name\": first_name,\n",
        "                \"last_name\": last_name,\n",
        "                \"email\": email,\n",
        "                \"courses\": courses,\n",
        "                \"link\": link\n",
        "            }\n",
        "            students.append(student)\n",
        "    return students\n",
        "\n",
        "# Example usage\n",
        "file_path = '/content/students.txt'\n",
        "students = read_students(file_path)\n",
        "print(students)\n",
        "\n",
        "\n",
        "# Create student options for dropdown\n",
        "student_options = [f'{s[\"first_name\"]} {s[\"last_name\"]}' for s in students]"
      ]
    },
    {
      "cell_type": "code",
      "source": [
        "# Function to update student data in the file\n",
        "def update_student_file(file_path, students):\n",
        "    with open(file_path, 'w') as f:\n",
        "        for student in students:\n",
        "            line = f'{student[\"first_name\"]}, {student[\"last_name\"]}, {student[\"email\"]}, {student[\"courses\"]}, {student[\"link\"]}\\n'\n",
        "            f.write(line)\n"
      ],
      "metadata": {
        "id": "X4a1o9Ubim7W"
      },
      "execution_count": null,
      "outputs": []
    },
    {
      "cell_type": "code",
      "source": [
        "# Create widgets\n",
        "student_dropdown = widgets.Dropdown(\n",
        "    description='Student:',\n",
        "    disabled=False\n",
        ")\n",
        "email_box = widgets.Text(description='Email:')\n",
        "courses_box = widgets.Text(description='Courses:')\n",
        "link_box = widgets.Text(description='Link:')\n",
        "favorite_program_box = widgets.Text(description='Favorite Program:')\n",
        "update_button = widgets.Button(description='Update')"
      ],
      "metadata": {
        "id": "3Ghrb6FkhBln"
      },
      "execution_count": null,
      "outputs": []
    },
    {
      "cell_type": "code",
      "source": [
        "# Function to update the form with the selected student's details\n",
        "def on_student_change(change):\n",
        "    selected_student_name = change['new']\n",
        "    student = next(s for s in students if f'{s[\"first_name\"]} {s[\"last_name\"]}' == selected_student_name)\n",
        "    email_box.value = student['email']\n",
        "    courses_box.value = ', '.join(student['courses'])\n",
        "    link_box.value = student['link']\n",
        "\n",
        "# Function to update the student's favorite program\n",
        "def on_update_button_clicked(b):\n",
        "    selected_student = student_dropdown.value\n",
        "    student_index = student_options.index(selected_student)\n",
        "    student = students[student_index]\n",
        "    new_program = favorite_program_box.value\n",
        "    if new_program:\n",
        "        student['courses'].append(new_program)\n",
        "        update_student_file('/content/students.txt', students)\n",
        "        favorite_program_box.value = ''\n",
        "        courses_box.value = ', '.join(student['courses'])\n",
        "\n",
        "# Attach event handlers\n",
        "student_dropdown.observe(on_student_change, names='value')\n",
        "update_button.on_click(on_update_button_clicked)\n",
        "\n",
        "# Display form\n",
        "display(student_dropdown, email_box, courses_box, link_box, favorite_program_box, update_button)\n",
        "# Populate student names as options in student_dropdown\n",
        "student_dropdown.options = student_options\n",
        "# Initialize form with the first student's details\n",
        "if student_dropdown.options:\n",
        "    on_student_change({'new': student_dropdown.options[0]})"
      ],
      "metadata": {
        "colab": {
          "base_uri": "https://localhost:8080/",
          "height": 201,
          "referenced_widgets": [
            "9b233d6639684776ba7d2ca584cb8f85",
            "66122bf6652745188abbc5fa43c91952",
            "0e86326a02054ab6a7302e9717a998cd",
            "6cb4deaced8442089d7104d1d47bee61",
            "b70ad76f93e84b1daf482d368529af60",
            "28da2c056c1f43bea3bcf6e74d838388",
            "2261ce2f04ab461092daddb4c179d7b0",
            "abe6d56f74ef4dbaaae60ac4b788bac5",
            "267fbf9d62234879be39bdcb0fdaed97",
            "89707d240d9a4cf2bba75b1090ad428b",
            "8d53f2f8dc354443b7d1b4a68d514cf0",
            "cef5cdbad5be4b85af83df608382a886",
            "754f7f4bd81b43eea4c208a4fb60986e",
            "d037697c1cf947eb8839a5add104ae37",
            "04987b3f2e1c4d099c30577a0eda2453",
            "1b515e55c4544585a8653a577fcc1305",
            "fe0338c49cf5459a991656198d901ac8",
            "83a8d6ef2a4842c89aa2546e2766799b"
          ]
        },
        "id": "NpWVKNgkhbah",
        "outputId": "55e618a6-69b2-44ba-b4ae-150dd95bb680"
      },
      "execution_count": null,
      "outputs": [
        {
          "output_type": "display_data",
          "data": {
            "text/plain": [
              "Dropdown(description='Student:', options=(), value=None)"
            ],
            "application/vnd.jupyter.widget-view+json": {
              "version_major": 2,
              "version_minor": 0,
              "model_id": "9b233d6639684776ba7d2ca584cb8f85"
            }
          },
          "metadata": {}
        },
        {
          "output_type": "display_data",
          "data": {
            "text/plain": [
              "Text(value='', description='Email:')"
            ],
            "application/vnd.jupyter.widget-view+json": {
              "version_major": 2,
              "version_minor": 0,
              "model_id": "6cb4deaced8442089d7104d1d47bee61"
            }
          },
          "metadata": {}
        },
        {
          "output_type": "display_data",
          "data": {
            "text/plain": [
              "Text(value='', description='Courses:')"
            ],
            "application/vnd.jupyter.widget-view+json": {
              "version_major": 2,
              "version_minor": 0,
              "model_id": "2261ce2f04ab461092daddb4c179d7b0"
            }
          },
          "metadata": {}
        },
        {
          "output_type": "display_data",
          "data": {
            "text/plain": [
              "Text(value='', description='Link:')"
            ],
            "application/vnd.jupyter.widget-view+json": {
              "version_major": 2,
              "version_minor": 0,
              "model_id": "89707d240d9a4cf2bba75b1090ad428b"
            }
          },
          "metadata": {}
        },
        {
          "output_type": "display_data",
          "data": {
            "text/plain": [
              "Text(value='', description='Favorite Program:')"
            ],
            "application/vnd.jupyter.widget-view+json": {
              "version_major": 2,
              "version_minor": 0,
              "model_id": "754f7f4bd81b43eea4c208a4fb60986e"
            }
          },
          "metadata": {}
        },
        {
          "output_type": "display_data",
          "data": {
            "text/plain": [
              "Button(description='Update', style=ButtonStyle())"
            ],
            "application/vnd.jupyter.widget-view+json": {
              "version_major": 2,
              "version_minor": 0,
              "model_id": "1b515e55c4544585a8653a577fcc1305"
            }
          },
          "metadata": {}
        }
      ]
    }
  ]
}