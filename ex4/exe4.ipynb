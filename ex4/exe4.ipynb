{
  "nbformat": 4,
  "nbformat_minor": 0,
  "metadata": {
    "colab": {
      "provenance": [],
      "authorship_tag": "ABX9TyO9Ev3gOZGIpS6MIL2XzZvi",
      "include_colab_link": true
    },
    "kernelspec": {
      "name": "python3",
      "display_name": "Python 3"
    },
    "language_info": {
      "name": "python"
    },
    "widgets": {
      "application/vnd.jupyter.widget-state+json": {
        "253a32b4d1774c82aa265e76aa3b6954": {
          "model_module": "@jupyter-widgets/controls",
          "model_name": "DropdownModel",
          "model_module_version": "1.5.0",
          "state": {
            "_dom_classes": [],
            "_model_module": "@jupyter-widgets/controls",
            "_model_module_version": "1.5.0",
            "_model_name": "DropdownModel",
            "_options_labels": [
              "Document",
              "Tab",
              "User",
              "Description",
              "Time"
            ],
            "_view_count": null,
            "_view_module": "@jupyter-widgets/controls",
            "_view_module_version": "1.5.0",
            "_view_name": "DropdownView",
            "description": "Filter by:",
            "description_tooltip": null,
            "disabled": false,
            "index": 4,
            "layout": "IPY_MODEL_ef17be75b8aa48b5977c32fbd44b56a0",
            "style": "IPY_MODEL_0330875023d9459ebdb94443d9802103"
          }
        },
        "ef17be75b8aa48b5977c32fbd44b56a0": {
          "model_module": "@jupyter-widgets/base",
          "model_name": "LayoutModel",
          "model_module_version": "1.2.0",
          "state": {
            "_model_module": "@jupyter-widgets/base",
            "_model_module_version": "1.2.0",
            "_model_name": "LayoutModel",
            "_view_count": null,
            "_view_module": "@jupyter-widgets/base",
            "_view_module_version": "1.2.0",
            "_view_name": "LayoutView",
            "align_content": null,
            "align_items": null,
            "align_self": null,
            "border": null,
            "bottom": null,
            "display": null,
            "flex": null,
            "flex_flow": null,
            "grid_area": null,
            "grid_auto_columns": null,
            "grid_auto_flow": null,
            "grid_auto_rows": null,
            "grid_column": null,
            "grid_gap": null,
            "grid_row": null,
            "grid_template_areas": null,
            "grid_template_columns": null,
            "grid_template_rows": null,
            "height": null,
            "justify_content": null,
            "justify_items": null,
            "left": null,
            "margin": null,
            "max_height": null,
            "max_width": null,
            "min_height": null,
            "min_width": null,
            "object_fit": null,
            "object_position": null,
            "order": null,
            "overflow": null,
            "overflow_x": null,
            "overflow_y": null,
            "padding": null,
            "right": null,
            "top": null,
            "visibility": null,
            "width": null
          }
        },
        "0330875023d9459ebdb94443d9802103": {
          "model_module": "@jupyter-widgets/controls",
          "model_name": "DescriptionStyleModel",
          "model_module_version": "1.5.0",
          "state": {
            "_model_module": "@jupyter-widgets/controls",
            "_model_module_version": "1.5.0",
            "_model_name": "DescriptionStyleModel",
            "_view_count": null,
            "_view_module": "@jupyter-widgets/base",
            "_view_module_version": "1.2.0",
            "_view_name": "StyleView",
            "description_width": ""
          }
        },
        "08d2a6fbef1944bdb322770a2b513eb8": {
          "model_module": "@jupyter-widgets/controls",
          "model_name": "DropdownModel",
          "model_module_version": "1.5.0",
          "state": {
            "_dom_classes": [],
            "_model_module": "@jupyter-widgets/controls",
            "_model_module_version": "1.5.0",
            "_model_name": "DropdownModel",
            "_options_labels": [
              "2023-01-13",
              "2023-01-12",
              "2023-01-05",
              "2022-12-29",
              "2022-12-26",
              "2022-12-19",
              "2022-12-16",
              "2022-12-05",
              "2022-12-01",
              "2022-11-30",
              "2022-11-24",
              "2022-11-22",
              "2022-11-17",
              "2022-11-16",
              "2022-11-14",
              "2022-11-13",
              "2022-11-12",
              "2022-11-11"
            ],
            "_view_count": null,
            "_view_module": "@jupyter-widgets/controls",
            "_view_module_version": "1.5.0",
            "_view_name": "DropdownView",
            "description": "Value:",
            "description_tooltip": null,
            "disabled": false,
            "index": 15,
            "layout": "IPY_MODEL_488a1635b05648e1901e935819efee97",
            "style": "IPY_MODEL_89f393f504ab4e63886b148c3b1fdaec"
          }
        },
        "488a1635b05648e1901e935819efee97": {
          "model_module": "@jupyter-widgets/base",
          "model_name": "LayoutModel",
          "model_module_version": "1.2.0",
          "state": {
            "_model_module": "@jupyter-widgets/base",
            "_model_module_version": "1.2.0",
            "_model_name": "LayoutModel",
            "_view_count": null,
            "_view_module": "@jupyter-widgets/base",
            "_view_module_version": "1.2.0",
            "_view_name": "LayoutView",
            "align_content": null,
            "align_items": null,
            "align_self": null,
            "border": null,
            "bottom": null,
            "display": null,
            "flex": null,
            "flex_flow": null,
            "grid_area": null,
            "grid_auto_columns": null,
            "grid_auto_flow": null,
            "grid_auto_rows": null,
            "grid_column": null,
            "grid_gap": null,
            "grid_row": null,
            "grid_template_areas": null,
            "grid_template_columns": null,
            "grid_template_rows": null,
            "height": null,
            "justify_content": null,
            "justify_items": null,
            "left": null,
            "margin": null,
            "max_height": null,
            "max_width": null,
            "min_height": null,
            "min_width": null,
            "object_fit": null,
            "object_position": null,
            "order": null,
            "overflow": null,
            "overflow_x": null,
            "overflow_y": null,
            "padding": null,
            "right": null,
            "top": null,
            "visibility": null,
            "width": null
          }
        },
        "89f393f504ab4e63886b148c3b1fdaec": {
          "model_module": "@jupyter-widgets/controls",
          "model_name": "DescriptionStyleModel",
          "model_module_version": "1.5.0",
          "state": {
            "_model_module": "@jupyter-widgets/controls",
            "_model_module_version": "1.5.0",
            "_model_name": "DescriptionStyleModel",
            "_view_count": null,
            "_view_module": "@jupyter-widgets/base",
            "_view_module_version": "1.2.0",
            "_view_name": "StyleView",
            "description_width": ""
          }
        },
        "aac4ba426dfd4a4d9b20903d4a8db376": {
          "model_module": "@jupyter-widgets/controls",
          "model_name": "ButtonModel",
          "model_module_version": "1.5.0",
          "state": {
            "_dom_classes": [],
            "_model_module": "@jupyter-widgets/controls",
            "_model_module_version": "1.5.0",
            "_model_name": "ButtonModel",
            "_view_count": null,
            "_view_module": "@jupyter-widgets/controls",
            "_view_module_version": "1.5.0",
            "_view_name": "ButtonView",
            "button_style": "",
            "description": "Update Graph",
            "disabled": false,
            "icon": "",
            "layout": "IPY_MODEL_d9c6dddd649b4dc18b97e21c691bc30d",
            "style": "IPY_MODEL_311b31f294664fa99a504f8eace2f866",
            "tooltip": ""
          }
        },
        "d9c6dddd649b4dc18b97e21c691bc30d": {
          "model_module": "@jupyter-widgets/base",
          "model_name": "LayoutModel",
          "model_module_version": "1.2.0",
          "state": {
            "_model_module": "@jupyter-widgets/base",
            "_model_module_version": "1.2.0",
            "_model_name": "LayoutModel",
            "_view_count": null,
            "_view_module": "@jupyter-widgets/base",
            "_view_module_version": "1.2.0",
            "_view_name": "LayoutView",
            "align_content": null,
            "align_items": null,
            "align_self": null,
            "border": null,
            "bottom": null,
            "display": null,
            "flex": null,
            "flex_flow": null,
            "grid_area": null,
            "grid_auto_columns": null,
            "grid_auto_flow": null,
            "grid_auto_rows": null,
            "grid_column": null,
            "grid_gap": null,
            "grid_row": null,
            "grid_template_areas": null,
            "grid_template_columns": null,
            "grid_template_rows": null,
            "height": null,
            "justify_content": null,
            "justify_items": null,
            "left": null,
            "margin": null,
            "max_height": null,
            "max_width": null,
            "min_height": null,
            "min_width": null,
            "object_fit": null,
            "object_position": null,
            "order": null,
            "overflow": null,
            "overflow_x": null,
            "overflow_y": null,
            "padding": null,
            "right": null,
            "top": null,
            "visibility": null,
            "width": null
          }
        },
        "311b31f294664fa99a504f8eace2f866": {
          "model_module": "@jupyter-widgets/controls",
          "model_name": "ButtonStyleModel",
          "model_module_version": "1.5.0",
          "state": {
            "_model_module": "@jupyter-widgets/controls",
            "_model_module_version": "1.5.0",
            "_model_name": "ButtonStyleModel",
            "_view_count": null,
            "_view_module": "@jupyter-widgets/base",
            "_view_module_version": "1.2.0",
            "_view_name": "StyleView",
            "button_color": null,
            "font_weight": ""
          }
        }
      }
    }
  },
  "cells": [
    {
      "cell_type": "markdown",
      "metadata": {
        "id": "view-in-github",
        "colab_type": "text"
      },
      "source": [
        "<a href=\"https://colab.research.google.com/github/LiadTssf/cloud-project/blob/main/ex4/exe4.ipynb\" target=\"_parent\"><img src=\"https://colab.research.google.com/assets/colab-badge.svg\" alt=\"Open In Colab\"/></a>"
      ]
    },
    {
      "cell_type": "code",
      "execution_count": 61,
      "metadata": {
        "id": "nZzLg4quW1gi"
      },
      "outputs": [],
      "source": [
        "import json\n",
        "import pandas as pd\n",
        "import ipywidgets as widgets\n",
        "from IPython.display import display\n",
        "import matplotlib.pyplot as plt\n",
        "from google.colab import drive"
      ]
    },
    {
      "cell_type": "code",
      "source": [
        "from google.colab import drive\n",
        "drive.mount('/content/drive')"
      ],
      "metadata": {
        "colab": {
          "base_uri": "https://localhost:8080/"
        },
        "id": "4PjsOVzD70LP",
        "outputId": "df4f2764-badf-42f5-a8b6-32960a6fb33e"
      },
      "execution_count": 62,
      "outputs": [
        {
          "output_type": "stream",
          "name": "stdout",
          "text": [
            "Drive already mounted at /content/drive; to attempt to forcibly remount, call drive.mount(\"/content/drive\", force_remount=True).\n"
          ]
        }
      ]
    },
    {
      "cell_type": "code",
      "source": [
        "# Replace 'path_to_your_file.json' with the actual path to your JSON file\n",
        "file_path = '/content/drive/My Drive/data.json'\n",
        "\n",
        "# Load JSON data\n",
        "with open(file_path, 'r') as f:\n",
        "    data = json.load(f)\n",
        "\n",
        "# Convert to DataFrame\n",
        "df = pd.DataFrame(data)\n",
        "\n",
        "# Convert 'Time' to datetime\n",
        "df['Time'] = pd.to_datetime(df['Time'])"
      ],
      "metadata": {
        "id": "yE6NFSqTaEr7"
      },
      "execution_count": 63,
      "outputs": []
    },
    {
      "cell_type": "code",
      "source": [
        "# Create a dropdown for selecting the filter type\n",
        "filter_type_dropdown = widgets.Dropdown(\n",
        "    options=['Document', 'Tab', 'User', 'Description', 'Time'],\n",
        "    description='Filter by:'\n",
        ")\n",
        "\n",
        "# Create an empty dropdown for the specific filter value, will be populated based on filter type\n",
        "filter_value_dropdown = widgets.Dropdown(description='Value:')\n",
        "\n",
        "# Create a button to update the graph\n",
        "update_button = widgets.Button(description='Update Graph')\n",
        "\n",
        "# Display widgets\n",
        "display(filter_type_dropdown, filter_value_dropdown, update_button)"
      ],
      "metadata": {
        "colab": {
          "base_uri": "https://localhost:8080/",
          "height": 563,
          "referenced_widgets": [
            "253a32b4d1774c82aa265e76aa3b6954",
            "ef17be75b8aa48b5977c32fbd44b56a0",
            "0330875023d9459ebdb94443d9802103",
            "08d2a6fbef1944bdb322770a2b513eb8",
            "488a1635b05648e1901e935819efee97",
            "89f393f504ab4e63886b148c3b1fdaec",
            "aac4ba426dfd4a4d9b20903d4a8db376",
            "d9c6dddd649b4dc18b97e21c691bc30d",
            "311b31f294664fa99a504f8eace2f866"
          ]
        },
        "id": "OlrlE_MUaV9G",
        "outputId": "8b1cab86-a4a2-4bdc-9271-8d58446dafeb"
      },
      "execution_count": 64,
      "outputs": [
        {
          "output_type": "display_data",
          "data": {
            "text/plain": [
              "Dropdown(description='Filter by:', options=('Document', 'Tab', 'User', 'Description', 'Time'), value='Document…"
            ],
            "application/vnd.jupyter.widget-view+json": {
              "version_major": 2,
              "version_minor": 0,
              "model_id": "253a32b4d1774c82aa265e76aa3b6954"
            }
          },
          "metadata": {}
        },
        {
          "output_type": "display_data",
          "data": {
            "text/plain": [
              "Dropdown(description='Value:', options=(), value=None)"
            ],
            "application/vnd.jupyter.widget-view+json": {
              "version_major": 2,
              "version_minor": 0,
              "model_id": "08d2a6fbef1944bdb322770a2b513eb8"
            }
          },
          "metadata": {}
        },
        {
          "output_type": "display_data",
          "data": {
            "text/plain": [
              "Button(description='Update Graph', style=ButtonStyle())"
            ],
            "application/vnd.jupyter.widget-view+json": {
              "version_major": 2,
              "version_minor": 0,
              "model_id": "aac4ba426dfd4a4d9b20903d4a8db376"
            }
          },
          "metadata": {}
        },
        {
          "output_type": "display_data",
          "data": {
            "text/plain": [
              "<Figure size 1200x600 with 1 Axes>"
            ],
            "image/png": "[encoded data removed]"
          },
          "metadata": {}
        }
      ]
    },
    {
      "cell_type": "code",
      "source": [
        "# Function to update the filter values dropdown based on selected filter type\n",
        "def update_filter_values(change):\n",
        "    filter_type = filter_type_dropdown.value\n",
        "    if filter_type == 'Time':\n",
        "        filter_value_dropdown.options = list(df['Time'].dt.date.unique())\n",
        "    else:\n",
        "        filter_value_dropdown.options = df[filter_type].unique()\n",
        "\n",
        "# Attach the function to filter type dropdown change event\n",
        "filter_type_dropdown.observe(update_filter_values, names='value')\n",
        "\n",
        "# Function to update the graph based on the selected filter\n",
        "def update_graph(b):\n",
        "    filter_type = filter_type_dropdown.value\n",
        "    filter_value = filter_value_dropdown.value\n",
        "\n",
        "    if filter_type == 'Time':\n",
        "        # Handle time filtering differently\n",
        "        filtered_df = df[df['Time'].dt.date == pd.to_datetime(filter_value).date()]\n",
        "    else:\n",
        "        filtered_df = df[df[filter_type] == filter_value]\n",
        "\n",
        "    # Resample to 1-minute intervals\n",
        "    event_counts = filtered_df.resample('T', on='Time').size()\n",
        "\n",
        "    # Plot the event counts\n",
        "    plt.figure(figsize=(12, 6))\n",
        "    plt.plot(event_counts.index, event_counts.values, marker='o')\n",
        "    plt.xlabel('Time')\n",
        "    plt.ylabel('Event Count')\n",
        "    plt.title(f'Event Counts Over Time (Filtered by {filter_type}: {filter_value})')\n",
        "    plt.xticks(rotation=45)\n",
        "    plt.grid(True)\n",
        "    plt.tight_layout()\n",
        "    plt.show()\n",
        "\n",
        "# Attach the function to the button click event\n",
        "update_button.on_click(update_graph)"
      ],
      "metadata": {
        "id": "FxU8JxHTaXzL"
      },
      "execution_count": 65,
      "outputs": []
    }
  ]
}