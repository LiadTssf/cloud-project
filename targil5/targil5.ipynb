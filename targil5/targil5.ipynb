{
  "nbformat": 4,
  "nbformat_minor": 0,
  "metadata": {
    "colab": {
      "provenance": [],
      "authorship_tag": "ABX9TyN4f98dy0903dTWsl1vmMry",
      "include_colab_link": true
    },
    "kernelspec": {
      "name": "python3",
      "display_name": "Python 3"
    },
    "language_info": {
      "name": "python"
    }
  },
  "cells": [
    {
      "cell_type": "markdown",
      "metadata": {
        "id": "view-in-github",
        "colab_type": "text"
      },
      "source": [
        "<a href=\"https://colab.research.google.com/github/LiadTssf/cloud-project/blob/main/targil5/targil5.ipynb\" target=\"_parent\"><img src=\"https://colab.research.google.com/assets/colab-badge.svg\" alt=\"Open In Colab\"/></a>"
      ]
    },
    {
      "cell_type": "code",
      "execution_count": null,
      "metadata": {
        "colab": {
          "base_uri": "https://localhost:8080/"
        },
        "id": "a1bz2d40lfKZ",
        "outputId": "20493fa4-b480-416a-b2d6-60c7c5c90d6c"
      },
      "outputs": [
        {
          "output_type": "stream",
          "name": "stdout",
          "text": [
            "Requirement already satisfied: firebase in /usr/local/lib/python3.10/dist-packages (4.0.1)\n",
            "Requirement already satisfied: requests in /usr/local/lib/python3.10/dist-packages (from firebase) (2.31.0)\n",
            "Requirement already satisfied: charset-normalizer<4,>=2 in /usr/local/lib/python3.10/dist-packages (from requests->firebase) (3.3.2)\n",
            "Requirement already satisfied: idna<4,>=2.5 in /usr/local/lib/python3.10/dist-packages (from requests->firebase) (3.7)\n",
            "Requirement already satisfied: urllib3<3,>=1.21.1 in /usr/local/lib/python3.10/dist-packages (from requests->firebase) (2.0.7)\n",
            "Requirement already satisfied: certifi>=2017.4.17 in /usr/local/lib/python3.10/dist-packages (from requests->firebase) (2024.6.2)\n"
          ]
        }
      ],
      "source": [
        "!pip install firebase"
      ]
    },
    {
      "cell_type": "code",
      "source": [
        "from firebase import firebase\n",
        "FBconn = firebase.FirebaseApplication('https://test100000-ccdb4-default-rtdb.asia-southeast1.firebasedatabase.app/',None)\n",
        "stop=False\n",
        "while stop==False:\n",
        "  name = str (input (\"what is the name?\"))\n",
        "  lastname = str (input (\"what is the lastname?\"))\n",
        "  mail = str (input (\"what is the mail?\"))\n",
        "  courses = str (input (\"what is the courses?\"))\n",
        "  favoritecourse = str (input (\"what is the favorite course?\"))\n",
        "  stop = str (input (\"should i stop?\"))\n",
        "  data_to_upload = {\n",
        "    'Tempname' : name,\n",
        "    'Templastname' : lastname,\n",
        "    'Tempmail' : mail ,\n",
        "    'Tempcourses' : courses,\n",
        "    'Tempfavoritecourse' : favoritecourse\n",
        "  }\n",
        "  result = FBconn.post('./',data_to_upload)\n",
        "res=FBconn.get('./',None)\n",
        "for key in res:\n",
        "  print(res[key],\"\\n\")\n"
      ],
      "metadata": {
        "colab": {
          "base_uri": "https://localhost:8080/"
        },
        "id": "vDOkf0phltYR",
        "outputId": "d3d20132-72ee-45fc-d6ce-4e8c02d8f8f6"
      },
      "execution_count": null,
      "outputs": [
        {
          "output_type": "stream",
          "name": "stdout",
          "text": [
            "what is the name?Tom\n",
            "what is the lastname?Mot\n",
            "what is the mail?Lllll\n",
            "what is the courses?Liad\n",
            "what is the favorite course?Liad\n",
            "should i stop?True\n",
            "{'Tempcourses': 'Kria', 'Tempfavoritecourse': 'Sleep', 'Templastname': 'Grabois', 'Tempmail': 'Liad3010@gmail.com', 'Tempname': 'Liad'} \n",
            "\n",
            "{'Tempcourses': 'Liad', 'Tempfavoritecourse': 'Liad', 'Templastname': 'Mot', 'Tempmail': 'Lllll', 'Tempname': 'Tom'} \n",
            "\n"
          ]
        }
      ]
    },
    {
      "cell_type": "code",
      "source": [
        "import json\n",
        "from firebase import firebase\n",
        "FBconn = firebase.FirebaseApplication('https://test100000-ccdb4-default-rtdb.asia-southeast1.firebasedatabase.app/',None)\n"
      ],
      "metadata": {
        "id": "4Xa5QOaFz2YA",
        "outputId": "b543eab1-26b7-4e18-8868-cd69c497e31d",
        "colab": {
          "base_uri": "https://localhost:8080/"
        }
      },
      "execution_count": null,
      "outputs": [
        {
          "output_type": "stream",
          "name": "stdout",
          "text": [
            "{'-O0rkv9yZwyW8jbeYhZv': {'Temp': 11}, '-O0rkw0Lgeg4z5nhSC4C': {'Temp': 22}, '-O0rl5L69Lyf3EOlYYN0': {'Temp': 9827}, '-O0rl6-hJ3bQxQc9d8KM': {'Temp': 123}} \n",
            "\n"
          ]
        }
      ]
    }
  ]
}