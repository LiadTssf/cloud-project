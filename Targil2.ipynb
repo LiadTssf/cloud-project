{
  "nbformat": 4,
  "nbformat_minor": 0,
  "metadata": {
    "colab": {
      "provenance": [],
      "authorship_tag": "ABX9TyM2Y/L49yz5jrPGrox+JYeT",
      "include_colab_link": true
    },
    "kernelspec": {
      "name": "python3",
      "display_name": "Python 3"
    },
    "language_info": {
      "name": "python"
    },
    "widgets": {
      "application/vnd.jupyter.widget-state+json": {
        "13004713cf3a4fcc965bd5eafe3ed48b": {
          "model_module": "@jupyter-widgets/controls",
          "model_name": "VBoxModel",
          "model_module_version": "1.5.0",
          "state": {
            "_dom_classes": [],
            "_model_module": "@jupyter-widgets/controls",
            "_model_module_version": "1.5.0",
            "_model_name": "VBoxModel",
            "_view_count": null,
            "_view_module": "@jupyter-widgets/controls",
            "_view_module_version": "1.5.0",
            "_view_name": "VBoxView",
            "box_style": "",
            "children": [
              "IPY_MODEL_54ac7cb161314bc3b24873d81698d5e5",
              "IPY_MODEL_f84a0151e096430c8db90edc746c8d9c",
              "IPY_MODEL_d72925e648204f47a6bb0f4c5b8ccc0d",
              "IPY_MODEL_09c47880a6034e349e3a6ac66ebc9758",
              "IPY_MODEL_602076381fbc4f75926bef72644450a3",
              "IPY_MODEL_63256c84a232415c8ced2c0f39a47031"
            ],
            "layout": "IPY_MODEL_432d5805cf5241bca8fe749f5f4ad191"
          }
        },
        "54ac7cb161314bc3b24873d81698d5e5": {
          "model_module": "@jupyter-widgets/controls",
          "model_name": "DropdownModel",
          "model_module_version": "1.5.0",
          "state": {
            "_dom_classes": [],
            "_model_module": "@jupyter-widgets/controls",
            "_model_module_version": "1.5.0",
            "_model_name": "DropdownModel",
            "_options_labels": [
              "Alice Johnson",
              "Bob Smith",
              "Charlie Brown"
            ],
            "_view_count": null,
            "_view_module": "@jupyter-widgets/controls",
            "_view_module_version": "1.5.0",
            "_view_name": "DropdownView",
            "description": "Student:",
            "description_tooltip": null,
            "disabled": false,
            "index": 0,
            "layout": "IPY_MODEL_06a38910b44e4b77b829aee297a5fef3",
            "style": "IPY_MODEL_5ece4bb1311c47a0857dc0177b67facb"
          }
        },
        "f84a0151e096430c8db90edc746c8d9c": {
          "model_module": "@jupyter-widgets/controls",
          "model_name": "TextModel",
          "model_module_version": "1.5.0",
          "state": {
            "_dom_classes": [],
            "_model_module": "@jupyter-widgets/controls",
            "_model_module_version": "1.5.0",
            "_model_name": "TextModel",
            "_view_count": null,
            "_view_module": "@jupyter-widgets/controls",
            "_view_module_version": "1.5.0",
            "_view_name": "TextView",
            "continuous_update": true,
            "description": "Email:",
            "description_tooltip": null,
            "disabled": false,
            "layout": "IPY_MODEL_962be4734c944d8fb5c41a0bdf092102",
            "placeholder": "​",
            "style": "IPY_MODEL_bd8129225aa9430bb94626ad32e05e94",
            "value": "alice.johnson@example.com"
          }
        },
        "d72925e648204f47a6bb0f4c5b8ccc0d": {
          "model_module": "@jupyter-widgets/controls",
          "model_name": "TextModel",
          "model_module_version": "1.5.0",
          "state": {
            "_dom_classes": [],
            "_model_module": "@jupyter-widgets/controls",
            "_model_module_version": "1.5.0",
            "_model_name": "TextModel",
            "_view_count": null,
            "_view_module": "@jupyter-widgets/controls",
            "_view_module_version": "1.5.0",
            "_view_name": "TextView",
            "continuous_update": true,
            "description": "Courses:",
            "description_tooltip": null,
            "disabled": false,
            "layout": "IPY_MODEL_962be4734c944d8fb5c41a0bdf092102",
            "placeholder": "​",
            "style": "IPY_MODEL_b3e12de53a5b4a2dbd8e3f20f8b8a8ca",
            "value": "Math, Physics, Chemistry"
          }
        },
        "09c47880a6034e349e3a6ac66ebc9758": {
          "model_module": "@jupyter-widgets/controls",
          "model_name": "TextModel",
          "model_module_version": "1.5.0",
          "state": {
            "_dom_classes": [],
            "_model_module": "@jupyter-widgets/controls",
            "_model_module_version": "1.5.0",
            "_model_name": "TextModel",
            "_view_count": null,
            "_view_module": "@jupyter-widgets/controls",
            "_view_module_version": "1.5.0",
            "_view_name": "TextView",
            "continuous_update": true,
            "description": "Link:",
            "description_tooltip": null,
            "disabled": false,
            "layout": "IPY_MODEL_962be4734c944d8fb5c41a0bdf092102",
            "placeholder": "​",
            "style": "IPY_MODEL_ed6f637bae824997a81108cb2a5ea08a",
            "value": "https://alice-portfolio.example.com"
          }
        },
        "602076381fbc4f75926bef72644450a3": {
          "model_module": "@jupyter-widgets/controls",
          "model_name": "TextModel",
          "model_module_version": "1.5.0",
          "state": {
            "_dom_classes": [],
            "_model_module": "@jupyter-widgets/controls",
            "_model_module_version": "1.5.0",
            "_model_name": "TextModel",
            "_view_count": null,
            "_view_module": "@jupyter-widgets/controls",
            "_view_module_version": "1.5.0",
            "_view_name": "TextView",
            "continuous_update": true,
            "description": "Favorite Course:",
            "description_tooltip": null,
            "disabled": false,
            "layout": "IPY_MODEL_962be4734c944d8fb5c41a0bdf092102",
            "placeholder": "​",
            "style": "IPY_MODEL_f66fb8d753864aae9876257f2e7fb308",
            "value": ""
          }
        },
        "63256c84a232415c8ced2c0f39a47031": {
          "model_module": "@jupyter-widgets/controls",
          "model_name": "ButtonModel",
          "model_module_version": "1.5.0",
          "state": {
            "_dom_classes": [],
            "_model_module": "@jupyter-widgets/controls",
            "_model_module_version": "1.5.0",
            "_model_name": "ButtonModel",
            "_view_count": null,
            "_view_module": "@jupyter-widgets/controls",
            "_view_module_version": "1.5.0",
            "_view_name": "ButtonView",
            "button_style": "success",
            "description": "Update",
            "disabled": false,
            "icon": "",
            "layout": "IPY_MODEL_d0fc1c5c13904f3285e6ee6859f3fddb",
            "style": "IPY_MODEL_baf0bfce195f42d08f3ba674d3a4d89d",
            "tooltip": ""
          }
        },
        "432d5805cf5241bca8fe749f5f4ad191": {
          "model_module": "@jupyter-widgets/base",
          "model_name": "LayoutModel",
          "model_module_version": "1.2.0",
          "state": {
            "_model_module": "@jupyter-widgets/base",
            "_model_module_version": "1.2.0",
            "_model_name": "LayoutModel",
            "_view_count": null,
            "_view_module": "@jupyter-widgets/base",
            "_view_module_version": "1.2.0",
            "_view_name": "LayoutView",
            "align_content": null,
            "align_items": "center",
            "align_self": null,
            "border": null,
            "bottom": null,
            "display": null,
            "flex": null,
            "flex_flow": null,
            "grid_area": null,
            "grid_auto_columns": null,
            "grid_auto_flow": null,
            "grid_auto_rows": null,
            "grid_column": null,
            "grid_gap": null,
            "grid_row": null,
            "grid_template_areas": null,
            "grid_template_columns": null,
            "grid_template_rows": null,
            "height": null,
            "justify_content": null,
            "justify_items": null,
            "left": null,
            "margin": "0 auto",
            "max_height": null,
            "max_width": null,
            "min_height": null,
            "min_width": null,
            "object_fit": null,
            "object_position": null,
            "order": null,
            "overflow": null,
            "overflow_x": null,
            "overflow_y": null,
            "padding": null,
            "right": null,
            "top": null,
            "visibility": null,
            "width": "500px"
          }
        },
        "06a38910b44e4b77b829aee297a5fef3": {
          "model_module": "@jupyter-widgets/base",
          "model_name": "LayoutModel",
          "model_module_version": "1.2.0",
          "state": {
            "_model_module": "@jupyter-widgets/base",
            "_model_module_version": "1.2.0",
            "_model_name": "LayoutModel",
            "_view_count": null,
            "_view_module": "@jupyter-widgets/base",
            "_view_module_version": "1.2.0",
            "_view_name": "LayoutView",
            "align_content": null,
            "align_items": null,
            "align_self": null,
            "border": null,
            "bottom": null,
            "display": null,
            "flex": null,
            "flex_flow": null,
            "grid_area": null,
            "grid_auto_columns": null,
            "grid_auto_flow": null,
            "grid_auto_rows": null,
            "grid_column": null,
            "grid_gap": null,
            "grid_row": null,
            "grid_template_areas": null,
            "grid_template_columns": null,
            "grid_template_rows": null,
            "height": null,
            "justify_content": null,
            "justify_items": null,
            "left": null,
            "margin": null,
            "max_height": null,
            "max_width": null,
            "min_height": null,
            "min_width": null,
            "object_fit": null,
            "object_position": null,
            "order": null,
            "overflow": null,
            "overflow_x": null,
            "overflow_y": null,
            "padding": null,
            "right": null,
            "top": null,
            "visibility": null,
            "width": "300px"
          }
        },
        "5ece4bb1311c47a0857dc0177b67facb": {
          "model_module": "@jupyter-widgets/controls",
          "model_name": "DescriptionStyleModel",
          "model_module_version": "1.5.0",
          "state": {
            "_model_module": "@jupyter-widgets/controls",
            "_model_module_version": "1.5.0",
            "_model_name": "DescriptionStyleModel",
            "_view_count": null,
            "_view_module": "@jupyter-widgets/base",
            "_view_module_version": "1.2.0",
            "_view_name": "StyleView",
            "description_width": "initial"
          }
        },
        "962be4734c944d8fb5c41a0bdf092102": {
          "model_module": "@jupyter-widgets/base",
          "model_name": "LayoutModel",
          "model_module_version": "1.2.0",
          "state": {
            "_model_module": "@jupyter-widgets/base",
            "_model_module_version": "1.2.0",
            "_model_name": "LayoutModel",
            "_view_count": null,
            "_view_module": "@jupyter-widgets/base",
            "_view_module_version": "1.2.0",
            "_view_name": "LayoutView",
            "align_content": null,
            "align_items": null,
            "align_self": null,
            "border": null,
            "bottom": null,
            "display": null,
            "flex": null,
            "flex_flow": null,
            "grid_area": null,
            "grid_auto_columns": null,
            "grid_auto_flow": null,
            "grid_auto_rows": null,
            "grid_column": null,
            "grid_gap": null,
            "grid_row": null,
            "grid_template_areas": null,
            "grid_template_columns": null,
            "grid_template_rows": null,
            "height": null,
            "justify_content": null,
            "justify_items": null,
            "left": null,
            "margin": "5px 0",
            "max_height": null,
            "max_width": null,
            "min_height": null,
            "min_width": null,
            "object_fit": null,
            "object_position": null,
            "order": null,
            "overflow": null,
            "overflow_x": null,
            "overflow_y": null,
            "padding": null,
            "right": null,
            "top": null,
            "visibility": null,
            "width": "300px"
          }
        },
        "bd8129225aa9430bb94626ad32e05e94": {
          "model_module": "@jupyter-widgets/controls",
          "model_name": "DescriptionStyleModel",
          "model_module_version": "1.5.0",
          "state": {
            "_model_module": "@jupyter-widgets/controls",
            "_model_module_version": "1.5.0",
            "_model_name": "DescriptionStyleModel",
            "_view_count": null,
            "_view_module": "@jupyter-widgets/base",
            "_view_module_version": "1.2.0",
            "_view_name": "StyleView",
            "description_width": "initial"
          }
        },
        "b3e12de53a5b4a2dbd8e3f20f8b8a8ca": {
          "model_module": "@jupyter-widgets/controls",
          "model_name": "DescriptionStyleModel",
          "model_module_version": "1.5.0",
          "state": {
            "_model_module": "@jupyter-widgets/controls",
            "_model_module_version": "1.5.0",
            "_model_name": "DescriptionStyleModel",
            "_view_count": null,
            "_view_module": "@jupyter-widgets/base",
            "_view_module_version": "1.2.0",
            "_view_name": "StyleView",
            "description_width": "initial"
          }
        },
        "ed6f637bae824997a81108cb2a5ea08a": {
          "model_module": "@jupyter-widgets/controls",
          "model_name": "DescriptionStyleModel",
          "model_module_version": "1.5.0",
          "state": {
            "_model_module": "@jupyter-widgets/controls",
            "_model_module_version": "1.5.0",
            "_model_name": "DescriptionStyleModel",
            "_view_count": null,
            "_view_module": "@jupyter-widgets/base",
            "_view_module_version": "1.2.0",
            "_view_name": "StyleView",
            "description_width": "initial"
          }
        },
        "f66fb8d753864aae9876257f2e7fb308": {
          "model_module": "@jupyter-widgets/controls",
          "model_name": "DescriptionStyleModel",
          "model_module_version": "1.5.0",
          "state": {
            "_model_module": "@jupyter-widgets/controls",
            "_model_module_version": "1.5.0",
            "_model_name": "DescriptionStyleModel",
            "_view_count": null,
            "_view_module": "@jupyter-widgets/base",
            "_view_module_version": "1.2.0",
            "_view_name": "StyleView",
            "description_width": "initial"
          }
        },
        "d0fc1c5c13904f3285e6ee6859f3fddb": {
          "model_module": "@jupyter-widgets/base",
          "model_name": "LayoutModel",
          "model_module_version": "1.2.0",
          "state": {
            "_model_module": "@jupyter-widgets/base",
            "_model_module_version": "1.2.0",
            "_model_name": "LayoutModel",
            "_view_count": null,
            "_view_module": "@jupyter-widgets/base",
            "_view_module_version": "1.2.0",
            "_view_name": "LayoutView",
            "align_content": null,
            "align_items": null,
            "align_self": null,
            "border": null,
            "bottom": null,
            "display": null,
            "flex": null,
            "flex_flow": null,
            "grid_area": null,
            "grid_auto_columns": null,
            "grid_auto_flow": null,
            "grid_auto_rows": null,
            "grid_column": null,
            "grid_gap": null,
            "grid_row": null,
            "grid_template_areas": null,
            "grid_template_columns": null,
            "grid_template_rows": null,
            "height": null,
            "justify_content": null,
            "justify_items": null,
            "left": null,
            "margin": "10px 0",
            "max_height": null,
            "max_width": null,
            "min_height": null,
            "min_width": null,
            "object_fit": null,
            "object_position": null,
            "order": null,
            "overflow": null,
            "overflow_x": null,
            "overflow_y": null,
            "padding": null,
            "right": null,
            "top": null,
            "visibility": null,
            "width": "200px"
          }
        },
        "baf0bfce195f42d08f3ba674d3a4d89d": {
          "model_module": "@jupyter-widgets/controls",
          "model_name": "ButtonStyleModel",
          "model_module_version": "1.5.0",
          "state": {
            "_model_module": "@jupyter-widgets/controls",
            "_model_module_version": "1.5.0",
            "_model_name": "ButtonStyleModel",
            "_view_count": null,
            "_view_module": "@jupyter-widgets/base",
            "_view_module_version": "1.2.0",
            "_view_name": "StyleView",
            "button_color": null,
            "font_weight": ""
          }
        }
      }
    }
  },
  "cells": [
    {
      "cell_type": "markdown",
      "metadata": {
        "id": "view-in-github",
        "colab_type": "text"
      },
      "source": [
        "<a href=\"https://colab.research.google.com/github/LiadTssf/cloud-project/blob/main/Targil2.ipynb\" target=\"_parent\"><img src=\"https://colab.research.google.com/assets/colab-badge.svg\" alt=\"Open In Colab\"/></a>"
      ]
    },
    {
      "cell_type": "code",
      "execution_count": 13,
      "metadata": {
        "id": "PqqqzGyj74MV"
      },
      "outputs": [],
      "source": [
        "import json\n",
        "\n",
        "student_data = [\n",
        "    {\n",
        "        \"name\": \"Alice Johnson\",\n",
        "        \"email\": \"alice.johnson@example.com\",\n",
        "        \"courses\": [\"Math\", \"Physics\", \"Chemistry\"],\n",
        "        \"link\": \"https://alice-portfolio.example.com\"\n",
        "    },\n",
        "    {\n",
        "        \"name\": \"Bob Smith\",\n",
        "        \"email\": \"bob.smith@example.com\",\n",
        "        \"courses\": [\"Biology\", \"History\", \"Geography\"],\n",
        "        \"link\": \"https://bob-portfolio.example.com\"\n",
        "    },\n",
        "    {\n",
        "        \"name\": \"Charlie Brown\",\n",
        "        \"email\": \"charlie.brown@example.com\",\n",
        "        \"courses\": [\"Computer Science\", \"Math\", \"Art\"],\n",
        "        \"link\": \"https://charlie-portfolio.example.com\"\n",
        "    }\n",
        "]\n",
        "\n",
        "with open('/content/students.json', 'w') as f:\n",
        "    json.dump(student_data, f, indent=4)"
      ]
    },
    {
      "cell_type": "code",
      "source": [
        "import ast\n",
        "import ipywidgets as widgets\n",
        "from ipywidgets import Dropdown, Text, Button, VBox, Layout\n",
        "from IPython.display import display\n",
        "\n",
        "def read_students(file_path):\n",
        "    with open(file_path, 'r') as f:\n",
        "        students = json.load(f)\n",
        "    return students\n",
        "\n",
        "# Function to update student data in the JSON file\n",
        "def update_student_file(file_path, students):\n",
        "    with open(file_path, 'w') as f:\n",
        "        json.dump(students, f, indent=4)\n",
        "\n",
        "# Load the student data\n",
        "file_path = '/content/students.json'\n",
        "students = read_students(file_path)\n",
        "student_options = [s[\"name\"] for s in students]  # Create student options for dropdown # Create student options for dropdown\n",
        "\n",
        "for student in students:\n",
        "    print(student)"
      ],
      "metadata": {
        "colab": {
          "base_uri": "https://localhost:8080/"
        },
        "id": "9J2CGMTG9S2N",
        "outputId": "49a5c140-1c23-4bde-ab09-a4e5cc4e3f53"
      },
      "execution_count": 21,
      "outputs": [
        {
          "output_type": "stream",
          "name": "stdout",
          "text": [
            "{'name': 'Alice Johnson', 'email': 'alice.johnson@example.com', 'courses': ['Math', 'Physics', 'Chemistry'], 'link': 'https://alice-portfolio.example.com'}\n",
            "{'name': 'Bob Smith', 'email': 'bob.smith@example.com', 'courses': ['Biology', 'History', 'Geography'], 'link': 'https://bob-portfolio.example.com'}\n",
            "{'name': 'Charlie Brown', 'email': 'charlie.brown@example.com', 'courses': ['Computer Science', 'Math', 'Art', 'dark dark', 'Math'], 'link': 'https://charlie-portfolio.example.com'}\n"
          ]
        }
      ]
    },
    {
      "cell_type": "code",
      "source": [
        "# Create form elements with layout and styling\n",
        "dropdown_layout = Layout(width='300px')\n",
        "text_layout = Layout(width='300px', margin='5px 0')\n",
        "button_layout = Layout(width='200px', margin='10px 0')\n",
        "\n",
        "student_dropdown = Dropdown(description='Student:', layout=dropdown_layout,style={'description_width': 'initial'})\n",
        "email_box = Text(description='Email:', layout=text_layout,style={'description_width': 'initial'})\n",
        "courses_box = Text(description='Courses:', layout=text_layout,style={'description_width': 'initial'})\n",
        "link_box = Text(description='Link:', layout=text_layout,style={'description_width': 'initial'})\n",
        "favorite_program_box = Text(description='Favorite Course:', layout=text_layout, style={'description_width': 'initial'})\n",
        "update_button = Button(description='Update', button_style='success', layout=button_layout)\n",
        "form = VBox([student_dropdown, email_box, courses_box, link_box, favorite_program_box, update_button],layout=Layout(align_items='center', width='500px', margin='0 auto'))\n",
        "\n",
        "\n",
        "# Function to update the form with the selected student's details\n",
        "def on_student_change(change):\n",
        "    selected_student_name = change['new']\n",
        "    student = next(s for s in students if s[\"name\"] == selected_student_name)\n",
        "    email_box.value = student['email']\n",
        "    courses_box.value = ', '.join(student['courses'])\n",
        "    link_box.value = student['link']\n",
        "\n",
        "# Function to update the student's favorite course\n",
        "def on_update_button_clicked(b):\n",
        "    selected_student = student_dropdown.value\n",
        "    student = next(s for s in students if s[\"name\"] == selected_student)\n",
        "    new_program = favorite_program_box.value\n",
        "    if new_program:\n",
        "        student['courses'].append(new_program)\n",
        "        update_student_file(file_path, students)\n",
        "        favorite_program_box.value = ''\n",
        "        courses_box.value = ', '.join(student['courses'])\n",
        "\n",
        "# Attach event handlers\n",
        "student_dropdown.observe(on_student_change, names='value')\n",
        "update_button.on_click(on_update_button_clicked)\n",
        "\n",
        "# Populate student names as options in student_dropdown\n",
        "student_dropdown.options = student_options\n",
        "\n",
        "# Initialize form with the first student's details\n",
        "if student_dropdown.options:\n",
        "    on_student_change({'new': student_dropdown.options[0]})\n",
        "\n",
        "# Display form\n",
        "display(form)\n",
        "\n",
        ""
      ],
      "metadata": {
        "colab": {
          "base_uri": "https://localhost:8080/",
          "height": 249,
          "referenced_widgets": [
            "13004713cf3a4fcc965bd5eafe3ed48b",
            "54ac7cb161314bc3b24873d81698d5e5",
            "f84a0151e096430c8db90edc746c8d9c",
            "d72925e648204f47a6bb0f4c5b8ccc0d",
            "09c47880a6034e349e3a6ac66ebc9758",
            "602076381fbc4f75926bef72644450a3",
            "63256c84a232415c8ced2c0f39a47031",
            "432d5805cf5241bca8fe749f5f4ad191",
            "06a38910b44e4b77b829aee297a5fef3",
            "5ece4bb1311c47a0857dc0177b67facb",
            "962be4734c944d8fb5c41a0bdf092102",
            "bd8129225aa9430bb94626ad32e05e94",
            "b3e12de53a5b4a2dbd8e3f20f8b8a8ca",
            "ed6f637bae824997a81108cb2a5ea08a",
            "f66fb8d753864aae9876257f2e7fb308",
            "d0fc1c5c13904f3285e6ee6859f3fddb",
            "baf0bfce195f42d08f3ba674d3a4d89d"
          ]
        },
        "id": "vGGKJa7V-5P4",
        "outputId": "0f90f7e8-7827-4368-fae1-69b748ded09b"
      },
      "execution_count": 34,
      "outputs": [
        {
          "output_type": "display_data",
          "data": {
            "text/plain": [
              "VBox(children=(Dropdown(description='Student:', layout=Layout(width='300px'), options=('Alice Johnson', 'Bob S…"
            ],
            "application/vnd.jupyter.widget-view+json": {
              "version_major": 2,
              "version_minor": 0,
              "model_id": "13004713cf3a4fcc965bd5eafe3ed48b"
            }
          },
          "metadata": {}
        }
      ]
    }
  ]
}